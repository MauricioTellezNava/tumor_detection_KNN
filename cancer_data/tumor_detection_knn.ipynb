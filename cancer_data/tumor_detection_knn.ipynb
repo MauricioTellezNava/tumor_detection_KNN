{
  "nbformat": 4,
  "nbformat_minor": 0,
  "metadata": {
    "colab": {
      "provenance": [],
      "collapsed_sections": [],
      "include_colab_link": true
    },
    "kernelspec": {
      "name": "python3",
      "display_name": "Python 3"
    },
    "language_info": {
      "name": "python"
    }
  },
  "cells": [
    {
      "cell_type": "markdown",
      "metadata": {
        "id": "view-in-github",
        "colab_type": "text"
      },
      "source": [
        "<a href=\"https://colab.research.google.com/github/MauricioTellezNava/tumor_detection_KNN/blob/main/cancer_data/tumor_detection_knn.ipynb\" target=\"_parent\"><img src=\"https://colab.research.google.com/assets/colab-badge.svg\" alt=\"Open In Colab\"/></a>"
      ]
    },
    {
      "cell_type": "markdown",
      "metadata": {
        "id": "aR8EWLOUFuVH"
      },
      "source": [
        "# Challenge: Cancer data\n",
        "\n",
        "## Objetivo:\n",
        "Detectar los tumores malignos (M) y beningnos (B) de la variable diagnosis mediante el dataset que recaba múltiples características\n",
        "\n",
        "1. Aplicar el algoritmo de KNN a [data.csv](https://drive.google.com/file/d/1CaTF1C-iNnz7dPKaUcKRMK4BC19E0QLT/view?usp=sharing) (No olvides estandarizar y crear una variable nueva a partir de las existentes)\n",
        "2. Evaluar el rendimiento del modelo con el reporte de la clasificación"
      ]
    },
    {
      "cell_type": "markdown",
      "source": [
        "## Importando las bibliotecas"
      ],
      "metadata": {
        "id": "P9VCQeTI9-Ep"
      }
    },
    {
      "cell_type": "code",
      "source": [
        "import numpy as np # Numeric Python, me deja manipular facilmente arreglos y listas numéricos\n",
        "import pandas as pd # Pandas es la principal biblioteca de manejo de bases de datos en Python\n",
        "import matplotlib.pyplot as plt # Este es para hacer grafiquitas\n",
        "import seaborn as sns # Está basado en matplotlib, y hace gráficas más bonitas más fácil.\n",
        "\n",
        "-%matplotlib inline"
      ],
      "metadata": {
        "id": "C6RapNbys_Ah"
      },
      "execution_count": null,
      "outputs": []
    },
    {
      "cell_type": "code",
      "source": [
        "from google.colab import drive\n",
        "drive.mount('/content/drive')"
      ],
      "metadata": {
        "colab": {
          "base_uri": "https://localhost:8080/"
        },
        "id": "FOHn2TqY2Ysz",
        "outputId": "10a8cc4d-f142-4979-aaf2-90d68a1353d5"
      },
      "execution_count": null,
      "outputs": [
        {
          "output_type": "stream",
          "name": "stdout",
          "text": [
            "Mounted at /content/drive\n"
          ]
        }
      ]
    },
    {
      "cell_type": "markdown",
      "source": [
        "## Importando la base de datos"
      ],
      "metadata": {
        "id": "mPr-b7cG-EDS"
      }
    },
    {
      "cell_type": "code",
      "source": [
        "\n",
        "url = '/content/drive/MyDrive/DEV F/Master/data.csv'\n",
        "df = pd.read_csv(url)"
      ],
      "metadata": {
        "id": "HwfXgvuU0i4Y"
      },
      "execution_count": null,
      "outputs": []
    },
    {
      "cell_type": "code",
      "source": [
        "df.head()"
      ],
      "metadata": {
        "colab": {
          "base_uri": "https://localhost:8080/",
          "height": 317
        },
        "id": "eyhiGmcG03fE",
        "outputId": "07730239-0b5c-4e81-a19f-9a1d641cfb0e"
      },
      "execution_count": null,
      "outputs": [
        {
          "output_type": "execute_result",
          "data": {
            "text/plain": [
              "         id diagnosis  radius_mean  texture_mean  perimeter_mean  area_mean  \\\n",
              "0    842302         M        17.99         10.38          122.80     1001.0   \n",
              "1    842517         M        20.57         17.77          132.90     1326.0   \n",
              "2  84300903         M        19.69         21.25          130.00     1203.0   \n",
              "3  84348301         M        11.42         20.38           77.58      386.1   \n",
              "4  84358402         M        20.29         14.34          135.10     1297.0   \n",
              "\n",
              "   smoothness_mean  compactness_mean  concavity_mean  concave points_mean  \\\n",
              "0          0.11840           0.27760          0.3001              0.14710   \n",
              "1          0.08474           0.07864          0.0869              0.07017   \n",
              "2          0.10960           0.15990          0.1974              0.12790   \n",
              "3          0.14250           0.28390          0.2414              0.10520   \n",
              "4          0.10030           0.13280          0.1980              0.10430   \n",
              "\n",
              "   ...  texture_worst  perimeter_worst  area_worst  smoothness_worst  \\\n",
              "0  ...          17.33           184.60      2019.0            0.1622   \n",
              "1  ...          23.41           158.80      1956.0            0.1238   \n",
              "2  ...          25.53           152.50      1709.0            0.1444   \n",
              "3  ...          26.50            98.87       567.7            0.2098   \n",
              "4  ...          16.67           152.20      1575.0            0.1374   \n",
              "\n",
              "   compactness_worst  concavity_worst  concave points_worst  symmetry_worst  \\\n",
              "0             0.6656           0.7119                0.2654          0.4601   \n",
              "1             0.1866           0.2416                0.1860          0.2750   \n",
              "2             0.4245           0.4504                0.2430          0.3613   \n",
              "3             0.8663           0.6869                0.2575          0.6638   \n",
              "4             0.2050           0.4000                0.1625          0.2364   \n",
              "\n",
              "   fractal_dimension_worst  Unnamed: 32  \n",
              "0                  0.11890          NaN  \n",
              "1                  0.08902          NaN  \n",
              "2                  0.08758          NaN  \n",
              "3                  0.17300          NaN  \n",
              "4                  0.07678          NaN  \n",
              "\n",
              "[5 rows x 33 columns]"
            ],
            "text/html": [
              "\n",
              "  <div id=\"df-07365129-a38e-4923-aef3-5e90096700d2\">\n",
              "    <div class=\"colab-df-container\">\n",
              "      <div>\n",
              "<style scoped>\n",
              "    .dataframe tbody tr th:only-of-type {\n",
              "        vertical-align: middle;\n",
              "    }\n",
              "\n",
              "    .dataframe tbody tr th {\n",
              "        vertical-align: top;\n",
              "    }\n",
              "\n",
              "    .dataframe thead th {\n",
              "        text-align: right;\n",
              "    }\n",
              "</style>\n",
              "<table border=\"1\" class=\"dataframe\">\n",
              "  <thead>\n",
              "    <tr style=\"text-align: right;\">\n",
              "      <th></th>\n",
              "      <th>id</th>\n",
              "      <th>diagnosis</th>\n",
              "      <th>radius_mean</th>\n",
              "      <th>texture_mean</th>\n",
              "      <th>perimeter_mean</th>\n",
              "      <th>area_mean</th>\n",
              "      <th>smoothness_mean</th>\n",
              "      <th>compactness_mean</th>\n",
              "      <th>concavity_mean</th>\n",
              "      <th>concave points_mean</th>\n",
              "      <th>...</th>\n",
              "      <th>texture_worst</th>\n",
              "      <th>perimeter_worst</th>\n",
              "      <th>area_worst</th>\n",
              "      <th>smoothness_worst</th>\n",
              "      <th>compactness_worst</th>\n",
              "      <th>concavity_worst</th>\n",
              "      <th>concave points_worst</th>\n",
              "      <th>symmetry_worst</th>\n",
              "      <th>fractal_dimension_worst</th>\n",
              "      <th>Unnamed: 32</th>\n",
              "    </tr>\n",
              "  </thead>\n",
              "  <tbody>\n",
              "    <tr>\n",
              "      <th>0</th>\n",
              "      <td>842302</td>\n",
              "      <td>M</td>\n",
              "      <td>17.99</td>\n",
              "      <td>10.38</td>\n",
              "      <td>122.80</td>\n",
              "      <td>1001.0</td>\n",
              "      <td>0.11840</td>\n",
              "      <td>0.27760</td>\n",
              "      <td>0.3001</td>\n",
              "      <td>0.14710</td>\n",
              "      <td>...</td>\n",
              "      <td>17.33</td>\n",
              "      <td>184.60</td>\n",
              "      <td>2019.0</td>\n",
              "      <td>0.1622</td>\n",
              "      <td>0.6656</td>\n",
              "      <td>0.7119</td>\n",
              "      <td>0.2654</td>\n",
              "      <td>0.4601</td>\n",
              "      <td>0.11890</td>\n",
              "      <td>NaN</td>\n",
              "    </tr>\n",
              "    <tr>\n",
              "      <th>1</th>\n",
              "      <td>842517</td>\n",
              "      <td>M</td>\n",
              "      <td>20.57</td>\n",
              "      <td>17.77</td>\n",
              "      <td>132.90</td>\n",
              "      <td>1326.0</td>\n",
              "      <td>0.08474</td>\n",
              "      <td>0.07864</td>\n",
              "      <td>0.0869</td>\n",
              "      <td>0.07017</td>\n",
              "      <td>...</td>\n",
              "      <td>23.41</td>\n",
              "      <td>158.80</td>\n",
              "      <td>1956.0</td>\n",
              "      <td>0.1238</td>\n",
              "      <td>0.1866</td>\n",
              "      <td>0.2416</td>\n",
              "      <td>0.1860</td>\n",
              "      <td>0.2750</td>\n",
              "      <td>0.08902</td>\n",
              "      <td>NaN</td>\n",
              "    </tr>\n",
              "    <tr>\n",
              "      <th>2</th>\n",
              "      <td>84300903</td>\n",
              "      <td>M</td>\n",
              "      <td>19.69</td>\n",
              "      <td>21.25</td>\n",
              "      <td>130.00</td>\n",
              "      <td>1203.0</td>\n",
              "      <td>0.10960</td>\n",
              "      <td>0.15990</td>\n",
              "      <td>0.1974</td>\n",
              "      <td>0.12790</td>\n",
              "      <td>...</td>\n",
              "      <td>25.53</td>\n",
              "      <td>152.50</td>\n",
              "      <td>1709.0</td>\n",
              "      <td>0.1444</td>\n",
              "      <td>0.4245</td>\n",
              "      <td>0.4504</td>\n",
              "      <td>0.2430</td>\n",
              "      <td>0.3613</td>\n",
              "      <td>0.08758</td>\n",
              "      <td>NaN</td>\n",
              "    </tr>\n",
              "    <tr>\n",
              "      <th>3</th>\n",
              "      <td>84348301</td>\n",
              "      <td>M</td>\n",
              "      <td>11.42</td>\n",
              "      <td>20.38</td>\n",
              "      <td>77.58</td>\n",
              "      <td>386.1</td>\n",
              "      <td>0.14250</td>\n",
              "      <td>0.28390</td>\n",
              "      <td>0.2414</td>\n",
              "      <td>0.10520</td>\n",
              "      <td>...</td>\n",
              "      <td>26.50</td>\n",
              "      <td>98.87</td>\n",
              "      <td>567.7</td>\n",
              "      <td>0.2098</td>\n",
              "      <td>0.8663</td>\n",
              "      <td>0.6869</td>\n",
              "      <td>0.2575</td>\n",
              "      <td>0.6638</td>\n",
              "      <td>0.17300</td>\n",
              "      <td>NaN</td>\n",
              "    </tr>\n",
              "    <tr>\n",
              "      <th>4</th>\n",
              "      <td>84358402</td>\n",
              "      <td>M</td>\n",
              "      <td>20.29</td>\n",
              "      <td>14.34</td>\n",
              "      <td>135.10</td>\n",
              "      <td>1297.0</td>\n",
              "      <td>0.10030</td>\n",
              "      <td>0.13280</td>\n",
              "      <td>0.1980</td>\n",
              "      <td>0.10430</td>\n",
              "      <td>...</td>\n",
              "      <td>16.67</td>\n",
              "      <td>152.20</td>\n",
              "      <td>1575.0</td>\n",
              "      <td>0.1374</td>\n",
              "      <td>0.2050</td>\n",
              "      <td>0.4000</td>\n",
              "      <td>0.1625</td>\n",
              "      <td>0.2364</td>\n",
              "      <td>0.07678</td>\n",
              "      <td>NaN</td>\n",
              "    </tr>\n",
              "  </tbody>\n",
              "</table>\n",
              "<p>5 rows × 33 columns</p>\n",
              "</div>\n",
              "      <button class=\"colab-df-convert\" onclick=\"convertToInteractive('df-07365129-a38e-4923-aef3-5e90096700d2')\"\n",
              "              title=\"Convert this dataframe to an interactive table.\"\n",
              "              style=\"display:none;\">\n",
              "        \n",
              "  <svg xmlns=\"http://www.w3.org/2000/svg\" height=\"24px\"viewBox=\"0 0 24 24\"\n",
              "       width=\"24px\">\n",
              "    <path d=\"M0 0h24v24H0V0z\" fill=\"none\"/>\n",
              "    <path d=\"M18.56 5.44l.94 2.06.94-2.06 2.06-.94-2.06-.94-.94-2.06-.94 2.06-2.06.94zm-11 1L8.5 8.5l.94-2.06 2.06-.94-2.06-.94L8.5 2.5l-.94 2.06-2.06.94zm10 10l.94 2.06.94-2.06 2.06-.94-2.06-.94-.94-2.06-.94 2.06-2.06.94z\"/><path d=\"M17.41 7.96l-1.37-1.37c-.4-.4-.92-.59-1.43-.59-.52 0-1.04.2-1.43.59L10.3 9.45l-7.72 7.72c-.78.78-.78 2.05 0 2.83L4 21.41c.39.39.9.59 1.41.59.51 0 1.02-.2 1.41-.59l7.78-7.78 2.81-2.81c.8-.78.8-2.07 0-2.86zM5.41 20L4 18.59l7.72-7.72 1.47 1.35L5.41 20z\"/>\n",
              "  </svg>\n",
              "      </button>\n",
              "      \n",
              "  <style>\n",
              "    .colab-df-container {\n",
              "      display:flex;\n",
              "      flex-wrap:wrap;\n",
              "      gap: 12px;\n",
              "    }\n",
              "\n",
              "    .colab-df-convert {\n",
              "      background-color: #E8F0FE;\n",
              "      border: none;\n",
              "      border-radius: 50%;\n",
              "      cursor: pointer;\n",
              "      display: none;\n",
              "      fill: #1967D2;\n",
              "      height: 32px;\n",
              "      padding: 0 0 0 0;\n",
              "      width: 32px;\n",
              "    }\n",
              "\n",
              "    .colab-df-convert:hover {\n",
              "      background-color: #E2EBFA;\n",
              "      box-shadow: 0px 1px 2px rgba(60, 64, 67, 0.3), 0px 1px 3px 1px rgba(60, 64, 67, 0.15);\n",
              "      fill: #174EA6;\n",
              "    }\n",
              "\n",
              "    [theme=dark] .colab-df-convert {\n",
              "      background-color: #3B4455;\n",
              "      fill: #D2E3FC;\n",
              "    }\n",
              "\n",
              "    [theme=dark] .colab-df-convert:hover {\n",
              "      background-color: #434B5C;\n",
              "      box-shadow: 0px 1px 3px 1px rgba(0, 0, 0, 0.15);\n",
              "      filter: drop-shadow(0px 1px 2px rgba(0, 0, 0, 0.3));\n",
              "      fill: #FFFFFF;\n",
              "    }\n",
              "  </style>\n",
              "\n",
              "      <script>\n",
              "        const buttonEl =\n",
              "          document.querySelector('#df-07365129-a38e-4923-aef3-5e90096700d2 button.colab-df-convert');\n",
              "        buttonEl.style.display =\n",
              "          google.colab.kernel.accessAllowed ? 'block' : 'none';\n",
              "\n",
              "        async function convertToInteractive(key) {\n",
              "          const element = document.querySelector('#df-07365129-a38e-4923-aef3-5e90096700d2');\n",
              "          const dataTable =\n",
              "            await google.colab.kernel.invokeFunction('convertToInteractive',\n",
              "                                                     [key], {});\n",
              "          if (!dataTable) return;\n",
              "\n",
              "          const docLinkHtml = 'Like what you see? Visit the ' +\n",
              "            '<a target=\"_blank\" href=https://colab.research.google.com/notebooks/data_table.ipynb>data table notebook</a>'\n",
              "            + ' to learn more about interactive tables.';\n",
              "          element.innerHTML = '';\n",
              "          dataTable['output_type'] = 'display_data';\n",
              "          await google.colab.output.renderOutput(dataTable, element);\n",
              "          const docLink = document.createElement('div');\n",
              "          docLink.innerHTML = docLinkHtml;\n",
              "          element.appendChild(docLink);\n",
              "        }\n",
              "      </script>\n",
              "    </div>\n",
              "  </div>\n",
              "  "
            ]
          },
          "metadata": {},
          "execution_count": 12
        }
      ]
    },
    {
      "cell_type": "code",
      "source": [
        "df.info()"
      ],
      "metadata": {
        "colab": {
          "base_uri": "https://localhost:8080/"
        },
        "id": "47y1e4Qv2Wk0",
        "outputId": "1d3ab7fc-b9e7-4761-b7cc-715eda068d50"
      },
      "execution_count": null,
      "outputs": [
        {
          "output_type": "stream",
          "name": "stdout",
          "text": [
            "<class 'pandas.core.frame.DataFrame'>\n",
            "RangeIndex: 569 entries, 0 to 568\n",
            "Data columns (total 33 columns):\n",
            " #   Column                   Non-Null Count  Dtype  \n",
            "---  ------                   --------------  -----  \n",
            " 0   id                       569 non-null    int64  \n",
            " 1   diagnosis                569 non-null    object \n",
            " 2   radius_mean              569 non-null    float64\n",
            " 3   texture_mean             569 non-null    float64\n",
            " 4   perimeter_mean           569 non-null    float64\n",
            " 5   area_mean                569 non-null    float64\n",
            " 6   smoothness_mean          569 non-null    float64\n",
            " 7   compactness_mean         569 non-null    float64\n",
            " 8   concavity_mean           569 non-null    float64\n",
            " 9   concave points_mean      569 non-null    float64\n",
            " 10  symmetry_mean            569 non-null    float64\n",
            " 11  fractal_dimension_mean   569 non-null    float64\n",
            " 12  radius_se                569 non-null    float64\n",
            " 13  texture_se               569 non-null    float64\n",
            " 14  perimeter_se             569 non-null    float64\n",
            " 15  area_se                  569 non-null    float64\n",
            " 16  smoothness_se            569 non-null    float64\n",
            " 17  compactness_se           569 non-null    float64\n",
            " 18  concavity_se             569 non-null    float64\n",
            " 19  concave points_se        569 non-null    float64\n",
            " 20  symmetry_se              569 non-null    float64\n",
            " 21  fractal_dimension_se     569 non-null    float64\n",
            " 22  radius_worst             569 non-null    float64\n",
            " 23  texture_worst            569 non-null    float64\n",
            " 24  perimeter_worst          569 non-null    float64\n",
            " 25  area_worst               569 non-null    float64\n",
            " 26  smoothness_worst         569 non-null    float64\n",
            " 27  compactness_worst        569 non-null    float64\n",
            " 28  concavity_worst          569 non-null    float64\n",
            " 29  concave points_worst     569 non-null    float64\n",
            " 30  symmetry_worst           569 non-null    float64\n",
            " 31  fractal_dimension_worst  569 non-null    float64\n",
            " 32  Unnamed: 32              0 non-null      float64\n",
            "dtypes: float64(31), int64(1), object(1)\n",
            "memory usage: 146.8+ KB\n"
          ]
        }
      ]
    },
    {
      "cell_type": "code",
      "source": [
        "df[\"diagnosis\"].value_counts()"
      ],
      "metadata": {
        "colab": {
          "base_uri": "https://localhost:8080/"
        },
        "id": "cHdyqtsU3p4x",
        "outputId": "d4766b0d-1304-4695-a299-20c451442f44"
      },
      "execution_count": null,
      "outputs": [
        {
          "output_type": "execute_result",
          "data": {
            "text/plain": [
              "B    357\n",
              "M    212\n",
              "Name: diagnosis, dtype: int64"
            ]
          },
          "metadata": {},
          "execution_count": 19
        }
      ]
    },
    {
      "cell_type": "markdown",
      "source": [
        "# Sklearn"
      ],
      "metadata": {
        "id": "zhsYngnl5esv"
      }
    },
    {
      "cell_type": "markdown",
      "source": [
        "## Paso 3: Separo mi base en atributos (variables independientes, si quieren verlo así) y etiquetas (variable dependiente)"
      ],
      "metadata": {
        "id": "ct-Q7lOH-NO0"
      }
    },
    {
      "cell_type": "code",
      "source": [
        "# Set de características\n",
        "X = df.drop(columns = ['diagnosis', 'Unnamed: 32'])\n",
        "\n"
      ],
      "metadata": {
        "id": "PKgp1M025xbO"
      },
      "execution_count": null,
      "outputs": []
    },
    {
      "cell_type": "code",
      "source": [
        "# Columna de respuestas\n",
        "y = df.iloc[:, 1]\n",
        "y"
      ],
      "metadata": {
        "colab": {
          "base_uri": "https://localhost:8080/"
        },
        "id": "ZaddIpUt5x3w",
        "outputId": "d889dab0-e917-4404-ebe7-0157fd977918"
      },
      "execution_count": null,
      "outputs": [
        {
          "output_type": "execute_result",
          "data": {
            "text/plain": [
              "0      M\n",
              "1      M\n",
              "2      M\n",
              "3      M\n",
              "4      M\n",
              "      ..\n",
              "564    M\n",
              "565    M\n",
              "566    M\n",
              "567    M\n",
              "568    B\n",
              "Name: diagnosis, Length: 569, dtype: object"
            ]
          },
          "metadata": {},
          "execution_count": 45
        }
      ]
    },
    {
      "cell_type": "markdown",
      "source": [
        "El algoritmo k-nearest neighbors (KNN) es un algoritmo de aprendizaje automático simple y supervisado que puede utilizarse para resolver tanto problemas de clasificación como de regresión. Es fácil de implementar y entender, pero tiene el gran inconveniente de volverse significativamente lento a medida que crece el tamaño de los datos en uso. KNN funciona encontrando las distancias entre una consulta y todos los ejemplos de los datos, seleccionando el número especificado de ejemplos (K) más cercanos a la consulta, y luego vota por la etiqueta más frecuente (en el caso de la clasificación) o promedia las etiquetas (en el caso de la regresión). En el caso de la clasificación y la regresión, la elección de la K correcta para nuestros datos se realiza probando varias K y eligiendo la que mejor funciona.\n",
        "\n",
        "En la clasificación k-NN, el resultado es la pertenencia a una clase. Un objeto se clasifica mediante un voto plural de sus vecinos, asignando el objeto a la clase más común entre sus k vecinos más cercanos (k es un número entero positivo, normalmente pequeño). Si k = 1, el objeto se asigna simplemente a la clase de ese único vecino más cercano."
      ],
      "metadata": {
        "id": "nhD3Zxjh-fZw"
      }
    },
    {
      "cell_type": "markdown",
      "source": [
        "## Paso 4: Vamos a dividir nuestra base en una base de entrenamiento y otra de prueba. Dejemos 80% para que el KNN memorice, y 20% para ver qué tan bien \"aprendió\" a clasificar"
      ],
      "metadata": {
        "id": "HNwyZlfr-mcP"
      }
    },
    {
      "cell_type": "code",
      "source": [
        "from sklearn.model_selection import train_test_split\n",
        "\n",
        "x_train, x_test, y_train, y_test = train_test_split(X, y, shuffle=True,test_size = 0.20)"
      ],
      "metadata": {
        "id": "nRjo_wSJ5g-I"
      },
      "execution_count": null,
      "outputs": []
    },
    {
      "cell_type": "code",
      "source": [
        "print(len(df))\n",
        "print(len(x_train))"
      ],
      "metadata": {
        "colab": {
          "base_uri": "https://localhost:8080/"
        },
        "id": "ch-Oh8FK6RlZ",
        "outputId": "2ab4eff7-0f2e-4af8-bd00-52575bbd5e73"
      },
      "execution_count": null,
      "outputs": [
        {
          "output_type": "stream",
          "name": "stdout",
          "text": [
            "569\n",
            "455\n"
          ]
        }
      ]
    },
    {
      "cell_type": "code",
      "source": [
        "import math\n",
        "math.sqrt(455)"
      ],
      "metadata": {
        "colab": {
          "base_uri": "https://localhost:8080/"
        },
        "id": "h0eJDYCU6Xes",
        "outputId": "711742f5-8382-4a6e-967e-f88d3c681531"
      },
      "execution_count": null,
      "outputs": [
        {
          "output_type": "execute_result",
          "data": {
            "text/plain": [
              "21.330729007701542"
            ]
          },
          "metadata": {},
          "execution_count": 66
        }
      ]
    },
    {
      "cell_type": "markdown",
      "source": [
        "## Paso 5: Normalizo mis datos para que tengan una escala común"
      ],
      "metadata": {
        "id": "HH9H6Hp06hs9"
      }
    },
    {
      "cell_type": "code",
      "source": [
        "from sklearn.preprocessing import MinMaxScaler\n",
        "scaler = MinMaxScaler()\n",
        "scaler.fit(x_train)"
      ],
      "metadata": {
        "colab": {
          "base_uri": "https://localhost:8080/"
        },
        "id": "6RUCWKOj6g3b",
        "outputId": "1b96a6ba-7dcb-4494-be88-f08a2fdd2b25"
      },
      "execution_count": null,
      "outputs": [
        {
          "output_type": "execute_result",
          "data": {
            "text/plain": [
              "MinMaxScaler()"
            ]
          },
          "metadata": {},
          "execution_count": 67
        }
      ]
    },
    {
      "cell_type": "markdown",
      "source": [
        "Ahora sí, re-escalo mis variables"
      ],
      "metadata": {
        "id": "SkVSUQLt-8bU"
      }
    },
    {
      "cell_type": "code",
      "source": [
        "x_train = scaler.transform(x_train)\n",
        "x_test = scaler.transform(x_test)\n",
        "x_test"
      ],
      "metadata": {
        "colab": {
          "base_uri": "https://localhost:8080/"
        },
        "id": "3vX4nTJV6pSu",
        "outputId": "a1228180-0a04-44da-8e48-8423d95261f5"
      },
      "execution_count": null,
      "outputs": [
        {
          "output_type": "execute_result",
          "data": {
            "text/plain": [
              "array([[0.00999004, 0.09940631, 0.62529591, ..., 0.1676197 , 0.14902425,\n",
              "        0.11196379],\n",
              "       [0.00094318, 0.24733821, 0.43151843, ..., 0.32142611, 0.24916223,\n",
              "        0.16810967],\n",
              "       [0.00095392, 0.48137972, 0.32499155, ..., 0.66792973, 0.26867731,\n",
              "        0.15499147],\n",
              "       ...,\n",
              "       [0.00097292, 0.21102988, 0.27798444, ..., 0.09631416, 0.11945594,\n",
              "        0.10055096],\n",
              "       [0.00987762, 0.23703449, 0.31653703, ..., 0.3191526 , 0.10959984,\n",
              "        0.1104552 ],\n",
              "       [0.00098192, 0.38079584, 0.34697328, ..., 0.73062349, 0.31973191,\n",
              "        0.30735931]])"
            ]
          },
          "metadata": {},
          "execution_count": 68
        }
      ]
    },
    {
      "cell_type": "code",
      "source": [
        "x_train.min(), x_train.max()"
      ],
      "metadata": {
        "colab": {
          "base_uri": "https://localhost:8080/"
        },
        "id": "3QQ0PiY86sAl",
        "outputId": "a60fc4d1-4df9-4ec9-b0b8-709a95aeaad1"
      },
      "execution_count": null,
      "outputs": [
        {
          "output_type": "execute_result",
          "data": {
            "text/plain": [
              "(0.0, 1.0000000000000002)"
            ]
          },
          "metadata": {},
          "execution_count": 51
        }
      ]
    },
    {
      "cell_type": "markdown",
      "source": [
        "## Paso 6: Importo mi clasificador y le digo que memorice los datos de entrenamiento"
      ],
      "metadata": {
        "id": "l-4di45J8PGu"
      }
    },
    {
      "cell_type": "code",
      "source": [
        "#https://scikit-learn.org/stable/modules/generated/sklearn.neighbors.KNeighborsClassifier.html\n",
        "\n",
        "from sklearn.neighbors import KNeighborsClassifier\n",
        "classifier = KNeighborsClassifier(n_neighbors = 21)\n",
        "classifier.fit(x_train, y_train)"
      ],
      "metadata": {
        "colab": {
          "base_uri": "https://localhost:8080/"
        },
        "id": "wsw4r8bx707E",
        "outputId": "5d0cbe29-4823-476a-a85d-d6823acef8e3"
      },
      "execution_count": null,
      "outputs": [
        {
          "output_type": "execute_result",
          "data": {
            "text/plain": [
              "KNeighborsClassifier(n_neighbors=21)"
            ]
          },
          "metadata": {},
          "execution_count": 69
        }
      ]
    },
    {
      "cell_type": "code",
      "source": [
        "x_train[:11]"
      ],
      "metadata": {
        "colab": {
          "base_uri": "https://localhost:8080/"
        },
        "id": "WZ0U9UMN8T4O",
        "outputId": "f92fb669-569b-461c-d28f-bb5bc0b7835e"
      },
      "execution_count": null,
      "outputs": [
        {
          "output_type": "execute_result",
          "data": {
            "text/plain": [
              "array([[8.69735224e-05, 2.32618615e-01, 3.00642543e-01, 2.35951060e-01,\n",
              "        1.30635290e-01, 4.24483163e-01, 2.95938634e-01, 1.87558575e-01,\n",
              "        1.89910537e-01, 4.36868687e-01, 2.90016849e-01, 1.03059931e-01,\n",
              "        1.51122702e-01, 8.19865241e-02, 4.52738831e-02, 1.78128293e-01,\n",
              "        1.26610989e-01, 6.82070707e-02, 1.96438719e-01, 1.92046069e-01,\n",
              "        9.29756920e-02, 2.48530994e-01, 3.77957472e-01, 2.25875792e-01,\n",
              "        1.45631392e-01, 4.71703097e-01, 2.04237855e-01, 2.13338658e-01,\n",
              "        3.49638305e-01, 2.85629805e-01, 2.12908304e-01],\n",
              "       [9.90565434e-04, 3.52828615e-01, 1.76530267e-01, 3.45212690e-01,\n",
              "        2.18989742e-01, 2.55935723e-01, 2.26388604e-01, 1.29779756e-01,\n",
              "        1.60089463e-01, 3.16666667e-01, 1.41743892e-01, 4.81984429e-02,\n",
              "        1.61775106e-02, 5.03698817e-02, 3.18197063e-02, 5.29625727e-02,\n",
              "        1.16021270e-01, 5.83333333e-02, 1.59102103e-01, 6.95292572e-02,\n",
              "        5.12762047e-02, 3.39981793e-01, 1.85684337e-01, 3.18538314e-01,\n",
              "        2.22073668e-01, 2.33309120e-01, 2.44307322e-01, 2.51677316e-01,\n",
              "        3.95108508e-01, 2.21368027e-01, 1.81621409e-01],\n",
              "       [9.32991617e-03, 3.73436043e-01, 1.53872168e-01, 3.88248684e-01,\n",
              "        2.26532196e-01, 4.93545184e-01, 6.64748990e-01, 4.86644799e-01,\n",
              "        4.84890656e-01, 7.37878788e-01, 4.28812131e-01, 1.18522542e-01,\n",
              "        7.72188826e-02, 1.23780804e-01, 7.34544081e-02, 1.72553286e-01,\n",
              "        3.83242707e-01, 1.62777778e-01, 4.26595946e-01, 5.57277576e-01,\n",
              "        1.20890510e-01, 3.76810395e-01, 2.11440551e-01, 3.94643583e-01,\n",
              "        2.46908216e-01, 4.47929737e-01, 5.51183165e-01, 5.03594249e-01,\n",
              "        8.24319669e-01, 6.11472501e-01, 2.91355110e-01],\n",
              "       [9.64007016e-04, 3.89136941e-01, 4.56205614e-01, 4.43021767e-01,\n",
              "        2.56314111e-01, 5.26044958e-01, 1.00000000e+00, 7.44142455e-01,\n",
              "        6.84393638e-01, 7.24747475e-01, 6.54591407e-01, 4.27485062e-01,\n",
              "        4.62738685e-01, 4.41172313e-01, 2.53852174e-01, 3.61933576e-01,\n",
              "        4.33337339e-01, 2.07878788e-01, 5.72835764e-01, 2.99296591e-01,\n",
              "        1.77825684e-01, 4.50467599e-01, 5.87601078e-01, 5.02701447e-01,\n",
              "        3.28832141e-01, 5.23212045e-01, 4.75313134e-01, 4.93690096e-01,\n",
              "        8.48088185e-01, 3.37472896e-01, 3.07359307e-01],\n",
              "       [9.00624760e-05, 1.50679554e-01, 4.14947582e-01, 1.48456395e-01,\n",
              "        7.80536161e-02, 3.19400560e-01, 1.30299295e-01, 8.46766635e-02,\n",
              "        6.97813121e-02, 4.82828283e-01, 2.06613311e-01, 7.10483433e-02,\n",
              "        2.78642150e-01, 6.98770202e-02, 2.58250803e-02, 1.64190774e-01,\n",
              "        1.44410731e-01, 7.55303030e-02, 1.97954158e-01, 2.04027209e-01,\n",
              "        6.20206459e-02, 1.57080195e-01, 5.99580713e-01, 1.54069599e-01,\n",
              "        8.26592687e-02, 3.90477448e-01, 1.38069874e-01, 1.53913738e-01,\n",
              "        2.57836721e-01, 2.75970826e-01, 1.41545323e-01],\n",
              "       [9.56102280e-02, 2.25258819e-01, 9.06323977e-02, 2.20017072e-01,\n",
              "        1.22963538e-01, 4.52920466e-01, 1.72693651e-01, 9.34161200e-02,\n",
              "        1.83896620e-01, 4.54040404e-01, 2.01979781e-01, 4.50841934e-02,\n",
              "        6.74946959e-02, 4.30193658e-02, 2.04858153e-02, 2.15249686e-01,\n",
              "        7.17096765e-02, 4.25000000e-02, 2.35082402e-01, 2.19486743e-01,\n",
              "        4.67504111e-02, 1.87701730e-01, 1.08415693e-01, 1.73124964e-01,\n",
              "        1.02580386e-01, 4.44627881e-01, 9.63510590e-02, 9.92012780e-02,\n",
              "        3.23492938e-01, 2.48767987e-01, 8.31037649e-02],\n",
              "       [9.35391125e-04, 1.82572003e-01, 3.80791343e-01, 1.84165600e-01,\n",
              "        9.59831049e-02, 5.19725557e-01, 2.54229162e-01, 1.07567948e-01,\n",
              "        1.10984095e-01, 3.94949495e-01, 4.23125527e-01, 7.73492667e-02,\n",
              "        4.00857496e-01, 6.21966734e-02, 3.43447739e-02, 2.94285617e-01,\n",
              "        1.11214588e-01, 6.53030303e-02, 1.42186020e-01, 1.98616372e-01,\n",
              "        1.06449429e-01, 1.71563353e-01, 6.03174603e-01, 1.58949631e-01,\n",
              "        9.45584598e-02, 5.58211715e-01, 1.36129464e-01, 1.40175719e-01,\n",
              "        2.11057527e-01, 2.35955056e-01, 2.19532992e-01],\n",
              "       [9.76621798e-04, 1.24184289e-01, 1.69090294e-01, 1.30032722e-01,\n",
              "        6.15464184e-02, 4.16990160e-01, 2.47277584e-01, 8.39034677e-02,\n",
              "        1.01242545e-01, 2.89393939e-01, 4.23125527e-01, 8.20206410e-02,\n",
              "        4.74893918e-01, 7.71332988e-02, 2.41481270e-02, 5.31903321e-01,\n",
              "        3.33899120e-01, 6.59343434e-02, 2.45501042e-01, 5.57857308e-01,\n",
              "        2.02562083e-01, 7.92849458e-02, 2.23420186e-01, 7.97071980e-02,\n",
              "        3.84049736e-02, 4.28118603e-01, 1.32248644e-01, 5.72044728e-02,\n",
              "        1.40337582e-01, 1.71299034e-01, 1.95723468e-01],\n",
              "       [9.42672936e-04, 5.26029145e-01, 4.12580318e-01, 5.14155641e-01,\n",
              "        3.86259805e-01, 3.76184888e-01, 2.66111910e-01, 2.70149953e-01,\n",
              "        3.40308151e-01, 3.19191919e-01, 1.53959562e-01, 1.75411914e-01,\n",
              "        1.86041372e-01, 1.41780144e-01, 1.18635770e-01, 1.45766054e-01,\n",
              "        8.98849401e-02, 7.20959596e-02, 1.73290396e-01, 1.36005256e-01,\n",
              "        4.52648453e-02, 5.60953406e-01, 5.80113807e-01, 5.13739615e-01,\n",
              "        4.50498028e-01, 4.97457571e-01, 1.94244744e-01, 3.16693291e-01,\n",
              "        4.75025835e-01, 3.04356397e-01, 1.38134593e-01],\n",
              "       [9.76869353e-03, 9.87684608e-02, 2.01555631e-01, 9.65998008e-02,\n",
              "        4.78838031e-02, 3.40705967e-01, 9.42058763e-02, 2.58434864e-02,\n",
              "        6.99304175e-02, 5.15656566e-01, 2.77169334e-01, 5.68169473e-02,\n",
              "        2.31789250e-01, 4.67888611e-02, 1.84811815e-02, 4.10884862e-01,\n",
              "        6.32228798e-02, 2.10782828e-02, 1.79427922e-01, 1.95137976e-01,\n",
              "        1.16295621e-01, 7.39054870e-02, 2.65348907e-01, 6.34404229e-02,\n",
              "        3.77699044e-02, 4.98778313e-01, 6.44313143e-02, 3.22923323e-02,\n",
              "        1.77712711e-01, 2.51527696e-01, 1.75193493e-01],\n",
              "       [9.79267435e-04, 6.23669104e-01, 4.08183970e-01, 6.10897709e-01,\n",
              "        4.80217223e-01, 3.50907285e-01, 3.20936922e-01, 2.29592315e-01,\n",
              "        3.86928429e-01, 2.81818182e-01, 1.18155013e-01, 1.68966142e-01,\n",
              "        1.23010962e-01, 1.63077793e-01, 1.26519377e-01, 1.52802801e-01,\n",
              "        1.26235467e-01, 5.99747475e-02, 2.76756962e-01, 1.26922780e-01,\n",
              "        3.49349806e-02, 6.35024414e-01, 4.29769392e-01, 6.04368791e-01,\n",
              "        5.14004947e-01, 4.06326355e-01, 2.04043814e-01, 2.15814696e-01,\n",
              "        6.07991733e-01, 2.05795387e-01, 8.07424898e-02]])"
            ]
          },
          "metadata": {},
          "execution_count": 70
        }
      ]
    },
    {
      "cell_type": "markdown",
      "metadata": {
        "id": "Bi3aBXqqYtGd"
      },
      "source": [
        "## Paso 7: Hago la predicción con mis atributos del set de prueba"
      ]
    },
    {
      "cell_type": "code",
      "source": [
        "x_test[0]"
      ],
      "metadata": {
        "colab": {
          "base_uri": "https://localhost:8080/"
        },
        "id": "54-7IFrk8WgD",
        "outputId": "9a934d16-ddf0-4123-9e00-0a73fbd73ae0"
      },
      "execution_count": null,
      "outputs": [
        {
          "output_type": "execute_result",
          "data": {
            "text/plain": [
              "array([0.00999004, 0.09940631, 0.62529591, 0.09788021, 0.0483148 ,\n",
              "       0.24564413, 0.09204849, 0.0361059 , 0.05183897, 0.28333333,\n",
              "       0.20134794, 0.02411733, 0.29322843, 0.02289968, 0.00863149,\n",
              "       0.1657205 , 0.07846907, 0.03661616, 0.11562796, 0.15185128,\n",
              "       0.04744137, 0.07059505, 0.74573226, 0.06309185, 0.0359984 ,\n",
              "       0.26302582, 0.08111884, 0.05742812, 0.1676197 , 0.14902425,\n",
              "       0.11196379])"
            ]
          },
          "metadata": {},
          "execution_count": 71
        }
      ]
    },
    {
      "cell_type": "code",
      "source": [
        "y_pred = classifier.predict(x_test)\n",
        "y_pred"
      ],
      "metadata": {
        "colab": {
          "base_uri": "https://localhost:8080/"
        },
        "id": "LQKefOlc8Xa7",
        "outputId": "12fbd86c-d5ea-4eaa-ea60-1c05bf14769e"
      },
      "execution_count": null,
      "outputs": [
        {
          "output_type": "execute_result",
          "data": {
            "text/plain": [
              "array(['B', 'B', 'M', 'M', 'M', 'B', 'B', 'M', 'M', 'B', 'M', 'B', 'B',\n",
              "       'B', 'M', 'B', 'B', 'B', 'M', 'M', 'B', 'M', 'B', 'B', 'B', 'B',\n",
              "       'M', 'M', 'B', 'B', 'B', 'M', 'B', 'M', 'B', 'B', 'M', 'B', 'B',\n",
              "       'B', 'B', 'B', 'M', 'B', 'B', 'B', 'B', 'B', 'B', 'M', 'B', 'M',\n",
              "       'B', 'B', 'B', 'B', 'M', 'M', 'M', 'B', 'B', 'B', 'B', 'B', 'B',\n",
              "       'M', 'B', 'M', 'M', 'M', 'M', 'M', 'B', 'B', 'B', 'B', 'M', 'B',\n",
              "       'B', 'B', 'M', 'B', 'M', 'B', 'M', 'M', 'B', 'M', 'B', 'B', 'B',\n",
              "       'B', 'B', 'M', 'M', 'B', 'B', 'B', 'B', 'B', 'B', 'B', 'B', 'B',\n",
              "       'B', 'B', 'M', 'M', 'M', 'B', 'B', 'B', 'B', 'M'], dtype=object)"
            ]
          },
          "metadata": {},
          "execution_count": 72
        }
      ]
    },
    {
      "cell_type": "markdown",
      "source": [
        "## Paso 8: revisamos qué tan bien lo hicimos"
      ],
      "metadata": {
        "id": "rvzL3Xrq8iDR"
      }
    },
    {
      "cell_type": "code",
      "source": [
        "y_test.values, y_pred"
      ],
      "metadata": {
        "colab": {
          "base_uri": "https://localhost:8080/"
        },
        "id": "kaWT2DLO8aL1",
        "outputId": "e76fb2c2-7db7-464e-f154-be7cd3c614c4"
      },
      "execution_count": null,
      "outputs": [
        {
          "output_type": "execute_result",
          "data": {
            "text/plain": [
              "(array(['B', 'M', 'M', 'M', 'M', 'B', 'B', 'M', 'M', 'B', 'M', 'B', 'M',\n",
              "        'B', 'M', 'M', 'B', 'B', 'M', 'M', 'B', 'M', 'B', 'B', 'B', 'B',\n",
              "        'M', 'M', 'M', 'B', 'B', 'M', 'B', 'M', 'B', 'B', 'M', 'M', 'B',\n",
              "        'B', 'B', 'B', 'M', 'B', 'B', 'B', 'B', 'B', 'B', 'M', 'B', 'M',\n",
              "        'B', 'B', 'B', 'B', 'M', 'M', 'M', 'B', 'B', 'B', 'B', 'B', 'B',\n",
              "        'M', 'B', 'M', 'M', 'M', 'M', 'M', 'B', 'B', 'B', 'B', 'M', 'B',\n",
              "        'B', 'B', 'M', 'B', 'M', 'B', 'M', 'M', 'B', 'M', 'B', 'B', 'M',\n",
              "        'B', 'B', 'M', 'M', 'B', 'B', 'B', 'B', 'B', 'B', 'B', 'B', 'B',\n",
              "        'B', 'B', 'M', 'M', 'M', 'B', 'B', 'B', 'B', 'M'], dtype=object),\n",
              " array(['B', 'B', 'M', 'M', 'M', 'B', 'B', 'M', 'M', 'B', 'M', 'B', 'B',\n",
              "        'B', 'M', 'B', 'B', 'B', 'M', 'M', 'B', 'M', 'B', 'B', 'B', 'B',\n",
              "        'M', 'M', 'B', 'B', 'B', 'M', 'B', 'M', 'B', 'B', 'M', 'B', 'B',\n",
              "        'B', 'B', 'B', 'M', 'B', 'B', 'B', 'B', 'B', 'B', 'M', 'B', 'M',\n",
              "        'B', 'B', 'B', 'B', 'M', 'M', 'M', 'B', 'B', 'B', 'B', 'B', 'B',\n",
              "        'M', 'B', 'M', 'M', 'M', 'M', 'M', 'B', 'B', 'B', 'B', 'M', 'B',\n",
              "        'B', 'B', 'M', 'B', 'M', 'B', 'M', 'M', 'B', 'M', 'B', 'B', 'B',\n",
              "        'B', 'B', 'M', 'M', 'B', 'B', 'B', 'B', 'B', 'B', 'B', 'B', 'B',\n",
              "        'B', 'B', 'M', 'M', 'M', 'B', 'B', 'B', 'B', 'M'], dtype=object))"
            ]
          },
          "metadata": {},
          "execution_count": 75
        }
      ]
    },
    {
      "cell_type": "code",
      "source": [
        "from sklearn.metrics import classification_report, confusion_matrix\n",
        "\n",
        "print(confusion_matrix(y_test, y_pred))\n",
        "print(classification_report(y_test, y_pred))"
      ],
      "metadata": {
        "colab": {
          "base_uri": "https://localhost:8080/"
        },
        "id": "z1Na8HVG8mPv",
        "outputId": "1869c9ae-c486-4916-d741-03fbef8cb46c"
      },
      "execution_count": null,
      "outputs": [
        {
          "output_type": "stream",
          "name": "stdout",
          "text": [
            "[[69  0]\n",
            " [ 6 39]]\n",
            "              precision    recall  f1-score   support\n",
            "\n",
            "           B       0.92      1.00      0.96        69\n",
            "           M       1.00      0.87      0.93        45\n",
            "\n",
            "    accuracy                           0.95       114\n",
            "   macro avg       0.96      0.93      0.94       114\n",
            "weighted avg       0.95      0.95      0.95       114\n",
            "\n"
          ]
        }
      ]
    },
    {
      "cell_type": "code",
      "source": [
        "error = []\n",
        "for i in range(1, 119):\n",
        "    knn = KNeighborsClassifier(n_neighbors = i)\n",
        "    knn.fit(x_train, y_train)\n",
        "    pred_i = knn.predict(x_test)\n",
        "    error.append(np.mean(pred_i != y_test))\n",
        "    \n",
        "error"
      ],
      "metadata": {
        "colab": {
          "base_uri": "https://localhost:8080/"
        },
        "id": "RI3VkS248sgj",
        "outputId": "1634d811-5585-414b-d7fc-0a571495c373"
      },
      "execution_count": null,
      "outputs": [
        {
          "output_type": "execute_result",
          "data": {
            "text/plain": [
              "[0.043859649122807015,\n",
              " 0.07017543859649122,\n",
              " 0.05263157894736842,\n",
              " 0.05263157894736842,\n",
              " 0.043859649122807015,\n",
              " 0.043859649122807015,\n",
              " 0.043859649122807015,\n",
              " 0.05263157894736842,\n",
              " 0.043859649122807015,\n",
              " 0.043859649122807015,\n",
              " 0.043859649122807015,\n",
              " 0.05263157894736842,\n",
              " 0.043859649122807015,\n",
              " 0.05263157894736842,\n",
              " 0.05263157894736842,\n",
              " 0.05263157894736842,\n",
              " 0.05263157894736842,\n",
              " 0.05263157894736842,\n",
              " 0.05263157894736842,\n",
              " 0.05263157894736842,\n",
              " 0.05263157894736842,\n",
              " 0.05263157894736842,\n",
              " 0.05263157894736842,\n",
              " 0.05263157894736842,\n",
              " 0.05263157894736842,\n",
              " 0.05263157894736842,\n",
              " 0.05263157894736842,\n",
              " 0.05263157894736842,\n",
              " 0.05263157894736842,\n",
              " 0.05263157894736842,\n",
              " 0.05263157894736842,\n",
              " 0.05263157894736842,\n",
              " 0.05263157894736842,\n",
              " 0.05263157894736842,\n",
              " 0.05263157894736842,\n",
              " 0.05263157894736842,\n",
              " 0.05263157894736842,\n",
              " 0.05263157894736842,\n",
              " 0.05263157894736842,\n",
              " 0.05263157894736842,\n",
              " 0.05263157894736842,\n",
              " 0.05263157894736842,\n",
              " 0.05263157894736842,\n",
              " 0.05263157894736842,\n",
              " 0.05263157894736842,\n",
              " 0.05263157894736842,\n",
              " 0.05263157894736842,\n",
              " 0.05263157894736842,\n",
              " 0.05263157894736842,\n",
              " 0.05263157894736842,\n",
              " 0.05263157894736842,\n",
              " 0.05263157894736842,\n",
              " 0.05263157894736842,\n",
              " 0.05263157894736842,\n",
              " 0.05263157894736842,\n",
              " 0.05263157894736842,\n",
              " 0.05263157894736842,\n",
              " 0.05263157894736842,\n",
              " 0.05263157894736842,\n",
              " 0.05263157894736842,\n",
              " 0.05263157894736842,\n",
              " 0.05263157894736842,\n",
              " 0.05263157894736842,\n",
              " 0.05263157894736842,\n",
              " 0.05263157894736842,\n",
              " 0.05263157894736842,\n",
              " 0.05263157894736842,\n",
              " 0.06140350877192982,\n",
              " 0.06140350877192982,\n",
              " 0.06140350877192982,\n",
              " 0.06140350877192982,\n",
              " 0.06140350877192982,\n",
              " 0.06140350877192982,\n",
              " 0.06140350877192982,\n",
              " 0.06140350877192982,\n",
              " 0.07017543859649122,\n",
              " 0.06140350877192982,\n",
              " 0.07017543859649122,\n",
              " 0.06140350877192982,\n",
              " 0.07017543859649122,\n",
              " 0.06140350877192982,\n",
              " 0.07017543859649122,\n",
              " 0.07017543859649122,\n",
              " 0.07017543859649122,\n",
              " 0.06140350877192982,\n",
              " 0.06140350877192982,\n",
              " 0.06140350877192982,\n",
              " 0.06140350877192982,\n",
              " 0.06140350877192982,\n",
              " 0.06140350877192982,\n",
              " 0.06140350877192982,\n",
              " 0.06140350877192982,\n",
              " 0.06140350877192982,\n",
              " 0.06140350877192982,\n",
              " 0.06140350877192982,\n",
              " 0.06140350877192982,\n",
              " 0.06140350877192982,\n",
              " 0.06140350877192982,\n",
              " 0.06140350877192982,\n",
              " 0.06140350877192982,\n",
              " 0.06140350877192982,\n",
              " 0.06140350877192982,\n",
              " 0.06140350877192982,\n",
              " 0.07017543859649122,\n",
              " 0.06140350877192982,\n",
              " 0.06140350877192982,\n",
              " 0.06140350877192982,\n",
              " 0.07017543859649122,\n",
              " 0.06140350877192982,\n",
              " 0.07894736842105263,\n",
              " 0.06140350877192982,\n",
              " 0.07894736842105263,\n",
              " 0.07894736842105263,\n",
              " 0.08771929824561403,\n",
              " 0.07894736842105263,\n",
              " 0.08771929824561403,\n",
              " 0.08771929824561403,\n",
              " 0.09649122807017543]"
            ]
          },
          "metadata": {},
          "execution_count": 77
        }
      ]
    },
    {
      "cell_type": "markdown",
      "source": [
        "## Práctica"
      ],
      "metadata": {
        "id": "nOhfcNquBiYk"
      }
    },
    {
      "cell_type": "code",
      "source": [
        "len(y_pred)"
      ],
      "metadata": {
        "colab": {
          "base_uri": "https://localhost:8080/"
        },
        "id": "jOBoG5p0BlMR",
        "outputId": "17589020-392f-457d-e692-80ead6497375"
      },
      "execution_count": null,
      "outputs": [
        {
          "output_type": "execute_result",
          "data": {
            "text/plain": [
              "114"
            ]
          },
          "metadata": {},
          "execution_count": 81
        }
      ]
    },
    {
      "cell_type": "code",
      "source": [
        "prediction = pd.DataFrame(y_pred)"
      ],
      "metadata": {
        "id": "HMxR_Dw2Buhq"
      },
      "execution_count": null,
      "outputs": []
    },
    {
      "cell_type": "code",
      "source": [
        "prediction = prediction.rename(columns={0:\"expected_result\"})"
      ],
      "metadata": {
        "id": "w6MSw6hyCba_"
      },
      "execution_count": null,
      "outputs": []
    },
    {
      "cell_type": "code",
      "source": [
        "prediction[\"expected_result\"]"
      ],
      "metadata": {
        "colab": {
          "base_uri": "https://localhost:8080/"
        },
        "id": "eXsJ8BMjC_Vt",
        "outputId": "675ab30c-9f1a-4922-f072-b032ac7fb8c2"
      },
      "execution_count": null,
      "outputs": [
        {
          "output_type": "execute_result",
          "data": {
            "text/plain": [
              "0      B\n",
              "1      B\n",
              "2      M\n",
              "3      M\n",
              "4      M\n",
              "      ..\n",
              "109    B\n",
              "110    B\n",
              "111    B\n",
              "112    B\n",
              "113    M\n",
              "Name: expected_result, Length: 114, dtype: object"
            ]
          },
          "metadata": {},
          "execution_count": 130
        }
      ]
    }
  ]
}